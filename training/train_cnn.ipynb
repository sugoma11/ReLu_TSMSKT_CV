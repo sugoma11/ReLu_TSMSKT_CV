{
 "cells": [
  {
   "cell_type": "code",
   "execution_count": 1,
   "id": "74375005",
   "metadata": {},
   "outputs": [
    {
     "name": "stderr",
     "output_type": "stream",
     "text": [
      "2023-06-29 09:23:51.555048: I tensorflow/core/platform/cpu_feature_guard.cc:193] This TensorFlow binary is optimized with oneAPI Deep Neural Network Library (oneDNN) to use the following CPU instructions in performance-critical operations:  SSE4.1 SSE4.2 AVX AVX2 AVX_VNNI FMA\n",
      "To enable them in other operations, rebuild TensorFlow with the appropriate compiler flags.\n",
      "2023-06-29 09:23:51.654867: I tensorflow/core/util/port.cc:104] oneDNN custom operations are on. You may see slightly different numerical results due to floating-point round-off errors from different computation orders. To turn them off, set the environment variable `TF_ENABLE_ONEDNN_OPTS=0`.\n"
     ]
    }
   ],
   "source": [
    "import cv2\n",
    "import tensorflow as tf\n",
    "from tensorflow import keras\n",
    "from sklearn.model_selection import train_test_split\n",
    "from tensorflow.keras.wrappers.scikit_learn import KerasClassifier\n",
    "from keras.models import Sequential\n",
    "from keras.layers import Dense,Flatten,Conv2D,MaxPooling2D,Dropout"
   ]
  },
  {
   "cell_type": "code",
   "execution_count": null,
   "id": "3e27c324",
   "metadata": {},
   "outputs": [],
   "source": [
    "folder=\"../data/train/new_open_eyes\"\n",
    "open_eyes = load_images_from_folder(folder, 0)\n",
    "\n",
    "folder=\"../data/train/New_Closed_Eyes\"\n",
    "closed_eyes = load_images_from_folder(folder, 1)\n",
    "eyes = close_eyes + open_eyes"
   ]
  },
  {
   "cell_type": "code",
   "execution_count": null,
   "id": "73e75d82",
   "metadata": {},
   "outputs": [],
   "source": [
    "X = [] \n",
    "y = [] \n",
    "for features, label in eyes: \n",
    "     X.append(features)\n",
    "     y.append(label)"
   ]
  },
  {
   "cell_type": "code",
   "execution_count": null,
   "id": "aa83e3bd",
   "metadata": {},
   "outputs": [],
   "source": [
    "X = np.array(X).reshape(-1, 80, 80, 3)\n",
    "y = np.array(y)\n",
    "X = X/255.0"
   ]
  },
  {
   "cell_type": "code",
   "execution_count": null,
   "id": "5dca6a74",
   "metadata": {},
   "outputs": [],
   "source": [
    "X_train, X_test, y_train, y_test = train_test_split(X, y, stratify = y)"
   ]
  },
  {
   "cell_type": "code",
   "execution_count": null,
   "id": "6c18ea55",
   "metadata": {},
   "outputs": [],
   "source": [
    "model = keras.models.load_model('../models/CNN-3-256-3-3-64-16-8/')"
   ]
  },
  {
   "cell_type": "code",
   "execution_count": null,
   "id": "d652f8b7",
   "metadata": {},
   "outputs": [],
   "source": [
    "model.fit(X_train,\n",
    "            y_train,\n",
    "            batch_size=800,\n",
    "            validation_data=(X_test, y_test),\n",
    "            epochs=24)"
   ]
  },
  {
   "cell_type": "code",
   "execution_count": null,
   "id": "ac698ede",
   "metadata": {},
   "outputs": [],
   "source": [
    "model.evaluate(X_test, y_test, verbose=1)"
   ]
  }
 ],
 "metadata": {
  "kernelspec": {
   "display_name": "Python 3 (ipykernel)",
   "language": "python",
   "name": "python3"
  },
  "language_info": {
   "codemirror_mode": {
    "name": "ipython",
    "version": 3
   },
   "file_extension": ".py",
   "mimetype": "text/x-python",
   "name": "python",
   "nbconvert_exporter": "python",
   "pygments_lexer": "ipython3",
   "version": "3.10.6"
  }
 },
 "nbformat": 4,
 "nbformat_minor": 5
}
